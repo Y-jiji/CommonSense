{
 "cells": [
  {
   "cell_type": "code",
   "execution_count": 1,
   "metadata": {},
   "outputs": [],
   "source": [
    "from cdma_src.dl_code import *\n",
    "from cdma_src.decode import *\n",
    "\n",
    "listU = list(range(100_000))\n",
    "random.shuffle(listU)\n",
    "setA = set(listU[:100_000])\n",
    "setB = set(listU[:99_000])"
   ]
  },
  {
   "cell_type": "code",
   "execution_count": 2,
   "metadata": {},
   "outputs": [],
   "source": [
    "code = DLCode(8000, 8)\n",
    "code.encode(setA - setB)"
   ]
  },
  {
   "cell_type": "code",
   "execution_count": 3,
   "metadata": {},
   "outputs": [
    {
     "name": "stdout",
     "output_type": "stream",
     "text": [
      "Number of peels:  150\n",
      "Number of correct peels:  137\n",
      "Number of wrong peels:  13\n",
      "Number of elements in D:  863\n",
      "Number of elements in E:  13\n",
      "Number of peels:  169\n",
      "Number of correct peels:  144\n",
      "Number of wrong peels:  25\n",
      "Number of elements in D:  875\n",
      "Number of elements in E:  6\n",
      "Number of peels:  409\n",
      "Number of correct peels:  352\n",
      "Number of wrong peels:  57\n",
      "Number of elements in D:  667\n",
      "Number of elements in E:  38\n",
      "Number of peels:  428\n",
      "Number of correct peels:  364\n",
      "Number of wrong peels:  64\n",
      "Number of elements in D:  674\n",
      "Number of elements in E:  26\n",
      "Number of peels:  551\n",
      "Number of correct peels:  476\n",
      "Number of wrong peels:  75\n",
      "Number of elements in D:  562\n",
      "Number of elements in E:  37\n",
      "Number of peels:  570\n",
      "Number of correct peels:  488\n",
      "Number of wrong peels:  82\n",
      "Number of elements in D:  569\n",
      "Number of elements in E:  25\n",
      "Number of peels:  711\n",
      "Number of correct peels:  619\n",
      "Number of wrong peels:  92\n",
      "Number of elements in D:  438\n",
      "Number of elements in E:  35\n",
      "Number of peels:  730\n",
      "Number of correct peels:  631\n",
      "Number of wrong peels:  99\n",
      "Number of elements in D:  445\n",
      "Number of elements in E:  23\n",
      "Number of peels:  932\n",
      "Number of correct peels:  811\n",
      "Number of wrong peels:  121\n",
      "Number of elements in D:  265\n",
      "Number of elements in E:  45\n",
      "Number of peels:  959\n",
      "Number of correct peels:  832\n",
      "Number of wrong peels:  127\n",
      "Number of elements in D:  271\n",
      "Number of elements in E:  24\n",
      "Number of peels:  1082\n",
      "Number of correct peels:  949\n",
      "Number of wrong peels:  133\n",
      "Number of elements in D:  154\n",
      "Number of elements in E:  30\n",
      "Number of peels:  1113\n",
      "Number of correct peels:  974\n",
      "Number of wrong peels:  139\n",
      "Number of elements in D:  160\n",
      "Number of elements in E:  5\n",
      "Number of peels:  1261\n",
      "Number of correct peels:  1112\n",
      "Number of wrong peels:  149\n",
      "Number of elements in D:  22\n",
      "Number of elements in E:  15\n",
      "Number of peels:  1282\n",
      "Number of correct peels:  1127\n",
      "Number of wrong peels:  155\n",
      "Number of elements in D:  28\n",
      "Number of elements in E:  0\n",
      "Number of peels:  1316\n",
      "Number of correct peels:  1155\n",
      "Number of wrong peels:  161\n",
      "Number of elements in D:  0\n",
      "Number of elements in E:  6\n",
      "Number of peels:  1322\n",
      "Number of correct peels:  1161\n",
      "Number of wrong peels:  161\n",
      "Number of elements in D:  0\n",
      "Number of elements in E:  0\n"
     ]
    }
   ],
   "source": [
    "controller = RecentSuccessController(20, 15, 100)\n",
    "decoder = DLCDecoder(controller)\n",
    "decoder.decode(code, setA)\n"
   ]
  },
  {
   "cell_type": "code",
   "execution_count": null,
   "metadata": {},
   "outputs": [],
   "source": []
  },
  {
   "cell_type": "code",
   "execution_count": null,
   "metadata": {},
   "outputs": [],
   "source": []
  }
 ],
 "metadata": {
  "kernelspec": {
   "display_name": "Python 3",
   "language": "python",
   "name": "python3"
  },
  "language_info": {
   "codemirror_mode": {
    "name": "ipython",
    "version": 3
   },
   "file_extension": ".py",
   "mimetype": "text/x-python",
   "name": "python",
   "nbconvert_exporter": "python",
   "pygments_lexer": "ipython3",
   "version": "3.8.8"
  }
 },
 "nbformat": 4,
 "nbformat_minor": 2
}
