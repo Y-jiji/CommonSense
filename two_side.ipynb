{
 "cells": [
  {
   "cell_type": "code",
   "execution_count": 3,
   "metadata": {},
   "outputs": [],
   "source": [
    "from oniakRun.aggregate_result import aggregate_result\n",
    "import glob\n",
    "import re\n",
    "import json, os\n",
    "import numpy as np\n",
    "\n",
    "root = \"/media/mydrive/CDMA\"\n",
    "fnames = os.path.join(root, \"result/two_side_quantize/bs*_d*_sd*.json\")\n",
    "flist = glob.glob(fnames)\n",
    "pattern = r\"bs([0-9]+)_d([0-9]+)\"\n",
    "bs = set()\n",
    "for fil in flist:\n",
    "    m = re.search(pattern, fil).groups()\n",
    "    bs.add((int(m[0]), int(m[1])))\n",
    "\n",
    "\n",
    "filename = os.path.join(root, \"result/two_side_quantize/bs{}_d{}_sd*.json\")\n",
    "ys = {}\n",
    "agg_keys = {\n",
    "    \"success\": \"avg\",\n",
    "    \"time\": (\"avg\", \"if\", lambda dik: dik[\"success\"], \"key\", lambda dik: dik[\"time\"][-1]),\n",
    "    \"total communication cost\": (\"avg\", \"if\", lambda dik: dik[\"success\"]),\n",
    "    \"communication rounds\": (\"avg\", \"if\", lambda dik: dik[\"success\"]),\n",
    "    \"num peels\": (\"avg\", \"if\", lambda dik: not dik[\"success\"], \"key\", lambda dik: dik[\"num peels\"][0]),\n",
    "    \"number of recenters\": (\"avg\", \"if\", lambda dik: not dik[\"success\"]),\n",
    "}\n",
    "\n",
    "for b, d in bs:\n",
    "    ys[b, d] = aggregate_result(filename.format(b, d), agg_keys)"
   ]
  },
  {
   "cell_type": "code",
   "execution_count": 2,
   "metadata": {},
   "outputs": [
    {
     "data": {
      "text/plain": [
       "{'success': 1.0,\n",
       " 'time': 17.046533259691,\n",
       " 'total communication cost': 488396.188,\n",
       " 'communication rounds': 7.013,\n",
       " 'num peels': None,\n",
       " 'number of recenters': None}"
      ]
     },
     "execution_count": 2,
     "metadata": {},
     "output_type": "execute_result"
    }
   ],
   "source": [
    "aggregate_result(filename.format(1000100, 101000), agg_keys)"
   ]
  },
  {
   "cell_type": "code",
   "execution_count": 4,
   "metadata": {},
   "outputs": [
    {
     "name": "stdout",
     "output_type": "stream",
     "text": [
      "1000100 30300 {'success': 0.0, 'time': None, 'total communication cost': None, 'communication rounds': None, 'num peels': 1.36, 'number of recenters': 45.296}\n",
      "1000100 40400 {'success': 0.0, 'time': None, 'total communication cost': None, 'communication rounds': None, 'num peels': 5.971, 'number of recenters': 51.966}\n",
      "1000100 50500 {'success': 0.0, 'time': None, 'total communication cost': None, 'communication rounds': None, 'num peels': 13.469, 'number of recenters': 77.289}\n",
      "1000100 60600 {'success': 0.0, 'time': None, 'total communication cost': None, 'communication rounds': None, 'num peels': 22.536, 'number of recenters': 99.343}\n",
      "1000100 70700 {'success': 0.0, 'time': None, 'total communication cost': None, 'communication rounds': None, 'num peels': 31.638, 'number of recenters': 107.432}\n",
      "1000100 80800 {'success': 0.0, 'time': None, 'total communication cost': None, 'communication rounds': None, 'num peels': 40.546, 'number of recenters': 86.956}\n",
      "1000100 90900 {'success': 0.0, 'time': None, 'total communication cost': None, 'communication rounds': None, 'num peels': 48.207, 'number of recenters': 32.332}\n",
      "1000100 101000 {'success': 1.0, 'time': 17.046533259691, 'total communication cost': 488396.188, 'communication rounds': 7.013, 'num peels': None, 'number of recenters': None}\n",
      "1001000 33000 {'success': 0.0, 'time': None, 'total communication cost': None, 'communication rounds': None, 'num peels': 80.127, 'number of recenters': 0.086}\n",
      "1001000 44000 {'success': 0.0, 'time': None, 'total communication cost': None, 'communication rounds': None, 'num peels': 159.676, 'number of recenters': 0.156}\n",
      "1001000 55000 {'success': 0.0, 'time': None, 'total communication cost': None, 'communication rounds': None, 'num peels': 243.686, 'number of recenters': 0.254}\n",
      "1001000 66000 {'success': 0.0, 'time': None, 'total communication cost': None, 'communication rounds': None, 'num peels': 329.109, 'number of recenters': 0.356}\n",
      "1001000 77000 {'success': 0.0, 'time': None, 'total communication cost': None, 'communication rounds': None, 'num peels': 411.458, 'number of recenters': 0.364}\n",
      "1001000 88000 {'success': 0.0, 'time': None, 'total communication cost': None, 'communication rounds': None, 'num peels': 487.966, 'number of recenters': 0.246}\n",
      "1001000 99000 {'success': 0.92, 'time': 19.687752569267406, 'total communication cost': 617960.4076086957, 'communication rounds': 8.495652173913044, 'num peels': 551.9, 'number of recenters': 0.1}\n",
      "1001000 110000 {'success': 0.999, 'time': 18.372629486943907, 'total communication cost': 615414.2232232232, 'communication rounds': 8.01001001001001, 'num peels': 621.0, 'number of recenters': 0.0}\n",
      "1003000 39000 {'success': 0.0, 'time': None, 'total communication cost': None, 'communication rounds': None, 'num peels': 900.278, 'number of recenters': 0.001}\n",
      "1003000 52000 {'success': 0.0, 'time': None, 'total communication cost': None, 'communication rounds': None, 'num peels': 1150.661, 'number of recenters': 0.001}\n",
      "1003000 65000 {'success': 0.0, 'time': None, 'total communication cost': None, 'communication rounds': None, 'num peels': 1347.009, 'number of recenters': 0.386}\n",
      "1003000 78000 {'success': 0.0, 'time': None, 'total communication cost': None, 'communication rounds': None, 'num peels': 1523.607, 'number of recenters': 0.514}\n",
      "1003000 91000 {'success': 0.0, 'time': None, 'total communication cost': None, 'communication rounds': None, 'num peels': 1695.644, 'number of recenters': 0.431}\n",
      "1003000 104000 {'success': 0.0, 'time': None, 'total communication cost': None, 'communication rounds': None, 'num peels': 1863.158, 'number of recenters': 0.142}\n",
      "1003000 117000 {'success': 0.999, 'time': 22.153991218297328, 'total communication cost': 754261.8018018018, 'communication rounds': 9.422422422422422, 'num peels': 2044.0, 'number of recenters': 0.0}\n",
      "1003000 130000 {'success': 0.999, 'time': 20.660396473920933, 'total communication cost': 760295.6716716717, 'communication rounds': 8.46946946946947, 'num peels': 2167.0, 'number of recenters': 0.0}\n",
      "1010000 60000 {'success': 0.0, 'time': None, 'total communication cost': None, 'communication rounds': None, 'num peels': 11819.638, 'number of recenters': 0.0}\n",
      "1010000 80000 {'success': 0.0, 'time': None, 'total communication cost': None, 'communication rounds': None, 'num peels': 8787.921, 'number of recenters': 0.0}\n",
      "1010000 100000 {'success': 0.0, 'time': None, 'total communication cost': None, 'communication rounds': None, 'num peels': 7998.578, 'number of recenters': 0.009}\n",
      "1010000 120000 {'success': 0.0, 'time': None, 'total communication cost': None, 'communication rounds': None, 'num peels': 7884.235, 'number of recenters': 0.007}\n",
      "1010000 140000 {'success': 0.0, 'time': None, 'total communication cost': None, 'communication rounds': None, 'num peels': 8066.564, 'number of recenters': 0.004}\n",
      "1010000 160000 {'success': 1.0, 'time': 27.112961189652005, 'total communication cost': 1222223.999, 'communication rounds': 10.007, 'num peels': None, 'number of recenters': None}\n",
      "1010000 180000 {'success': 1.0, 'time': 26.00415990275799, 'total communication cost': 1185040.85, 'communication rounds': 9.657, 'num peels': None, 'number of recenters': None}\n",
      "1010000 200000 {'success': 1.0, 'time': 24.398138926018007, 'total communication cost': 1200559.786, 'communication rounds': 8.995, 'num peels': None, 'number of recenters': None}\n",
      "1030000 120000 {'success': 0.0, 'time': None, 'total communication cost': None, 'communication rounds': None, 'num peels': 45043.861, 'number of recenters': 0.007}\n",
      "1030000 160000 {'success': 0.0, 'time': None, 'total communication cost': None, 'communication rounds': None, 'num peels': 35111.653, 'number of recenters': 0.018}\n",
      "1030000 200000 {'success': 0.0, 'time': None, 'total communication cost': None, 'communication rounds': None, 'num peels': 30788.988, 'number of recenters': 0.017}\n",
      "1030000 240000 {'success': 0.0, 'time': None, 'total communication cost': None, 'communication rounds': None, 'num peels': 29871.077, 'number of recenters': 0.435}\n",
      "1030000 280000 {'success': 0.999, 'time': 30.625667005605614, 'total communication cost': 2059242.4034034035, 'communication rounds': 9.86986986986987, 'num peels': 31149.0, 'number of recenters': 0.0}\n",
      "1030000 320000 {'success': 1.0, 'time': 27.69500835027, 'total communication cost': 1982372.977, 'communication rounds': 8.958, 'num peels': None, 'number of recenters': None}\n",
      "1030000 360000 {'success': 1.0, 'time': 25.30955103888803, 'total communication cost': 1993323.31, 'communication rounds': 8.328, 'num peels': None, 'number of recenters': None}\n",
      "1030000 400000 {'success': 1.0, 'time': 24.513633366888, 'total communication cost': 2046930.703, 'communication rounds': 8.142, 'num peels': None, 'number of recenters': None}\n",
      "1100000 330000 {'success': 0.0, 'time': None, 'total communication cost': None, 'communication rounds': None, 'num peels': 107049.183, 'number of recenters': 10.262}\n",
      "1100000 440000 {'success': 0.0, 'time': None, 'total communication cost': None, 'communication rounds': None, 'num peels': 105132.593, 'number of recenters': 4.691}\n",
      "1100000 550000 {'success': 1.0, 'time': 37.54756349107799, 'total communication cost': 4324488.987, 'communication rounds': 9.228, 'num peels': None, 'number of recenters': None}\n",
      "1100000 660000 {'success': 1.0, 'time': 31.586689029923974, 'total communication cost': 4428668.384, 'communication rounds': 8.398, 'num peels': None, 'number of recenters': None}\n",
      "1100000 770000 {'success': 1.0, 'time': 29.265842727909025, 'total communication cost': 4637622.491, 'communication rounds': 8.142, 'num peels': None, 'number of recenters': None}\n",
      "1100000 880000 {'success': 1.0, 'time': 28.001155031506052, 'total communication cost': 4873772.998, 'communication rounds': 7.902, 'num peels': None, 'number of recenters': None}\n",
      "1100000 990000 {'success': 1.0, 'time': 26.830008554209996, 'total communication cost': 5036534.839, 'communication rounds': 7.554, 'num peels': None, 'number of recenters': None}\n",
      "1100000 1100000 {'success': 1.0, 'time': 26.31495614849001, 'total communication cost': 5217391.184, 'communication rounds': 7.37, 'num peels': None, 'number of recenters': None}\n",
      "1200000 630000 {'success': 0.0, 'time': None, 'total communication cost': None, 'communication rounds': None, 'num peels': 208624.622, 'number of recenters': 14.951}\n",
      "1200000 840000 {'success': 1.0, 'time': 43.05455638500301, 'total communication cost': 7365004.668, 'communication rounds': 8.845, 'num peels': None, 'number of recenters': None}\n",
      "1200000 1050000 {'success': 1.0, 'time': 36.863365020368, 'total communication cost': 7762482.571, 'communication rounds': 8.177, 'num peels': None, 'number of recenters': None}\n",
      "1200000 1260000 {'success': 1.0, 'time': 34.58079328945804, 'total communication cost': 8112100.609, 'communication rounds': 7.82, 'num peels': None, 'number of recenters': None}\n",
      "1200000 1470000 {'success': 1.0, 'time': 33.65889900554199, 'total communication cost': 8556430.91, 'communication rounds': 7.542, 'num peels': None, 'number of recenters': None}\n",
      "1200000 1680000 {'success': 1.0, 'time': 32.53655512198596, 'total communication cost': 9024924.411, 'communication rounds': 7.311, 'num peels': None, 'number of recenters': None}\n",
      "1200000 1890000 {'success': 1.0, 'time': 31.48917662076101, 'total communication cost': 9403935.818, 'communication rounds': 7.137, 'num peels': None, 'number of recenters': None}\n",
      "1200000 2100000 {'success': 0.992, 'time': 36.230466467581685, 'total communication cost': 9609926.224798387, 'communication rounds': 7.971774193548387, 'num peels': 201525.125, 'number of recenters': 88.25}\n"
     ]
    }
   ],
   "source": [
    "keys = list(ys.keys())\n",
    "keys.sort()\n",
    "for b, d in keys:\n",
    "    if ys[b,d][\"success\"] is None:\n",
    "        continue\n",
    "    print(b, d, ys[b,d])"
   ]
  }
 ],
 "metadata": {
  "kernelspec": {
   "display_name": "base",
   "language": "python",
   "name": "python3"
  },
  "language_info": {
   "codemirror_mode": {
    "name": "ipython",
    "version": 3
   },
   "file_extension": ".py",
   "mimetype": "text/x-python",
   "name": "python",
   "nbconvert_exporter": "python",
   "pygments_lexer": "ipython3",
   "version": "3.9.7"
  }
 },
 "nbformat": 4,
 "nbformat_minor": 2
}
