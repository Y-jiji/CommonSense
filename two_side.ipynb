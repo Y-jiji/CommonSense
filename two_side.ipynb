{
 "cells": [
  {
   "cell_type": "code",
   "execution_count": 4,
   "metadata": {},
   "outputs": [],
   "source": [
    "from oniakRun.aggregate_result import aggregate_result\n",
    "import glob\n",
    "import re\n",
    "import json, os\n",
    "import numpy as np\n",
    "\n",
    "root = \"/media/mydrive/CDMA\"\n",
    "fnames = os.path.join(root, \"result/two_side_quantize/bs*_d*_sd*.json\")\n",
    "flist = glob.glob(fnames)\n",
    "pattern = r\"bs([0-9]+)_d([0-9]+)\"\n",
    "bs = set()\n",
    "for fil in flist:\n",
    "    m = re.search(pattern, fil).groups()\n",
    "    bs.add((int(m[0]), int(m[1])))\n",
    "\n",
    "\n",
    "filename = os.path.join(root, \"result/two_side_quantize/bs{}_d{}_sd*.json\")\n",
    "ys = {}\n",
    "agg_keys = {\n",
    "    \"success\": \"avg\",\n",
    "    \"time\": (\"avg\", \"if\", lambda dik: dik[\"success\"], \"key\", lambda dik: dik[\"time\"][-1]),\n",
    "    \"total communication cost\": (\"avg\", \"if\", lambda dik: dik[\"success\"]),\n",
    "    \"communication rounds\": (\"avg\", \"if\", lambda dik: dik[\"success\"]),\n",
    "    \"total theoretical entropy cost\": \"avg\"\n",
    "}\n",
    "\n",
    "for b, d in bs:\n",
    "    ys[b, d] = aggregate_result(filename.format(b, d), agg_keys)"
   ]
  },
  {
   "cell_type": "code",
   "execution_count": 5,
   "metadata": {},
   "outputs": [
    {
     "data": {
      "text/plain": [
       "{'success': 1.0,\n",
       " 'time': 17.231958051667018,\n",
       " 'total communication cost': 488682.099,\n",
       " 'communication rounds': 7.018,\n",
       " 'total theoretical entropy cost': 302061.9712198547}"
      ]
     },
     "execution_count": 5,
     "metadata": {},
     "output_type": "execute_result"
    }
   ],
   "source": [
    "aggregate_result(filename.format(1000100, 101000), agg_keys)"
   ]
  },
  {
   "cell_type": "code",
   "execution_count": 6,
   "metadata": {},
   "outputs": [
    {
     "name": "stdout",
     "output_type": "stream",
     "text": [
      "1000100 95950 {'success': 0.999, 'time': 17.412493383293288, 'total communication cost': 481278.93593593594, 'communication rounds': 7.048048048048048, 'total theoretical entropy cost': 296403.1738813391}\n",
      "1000100 96960 {'success': 0.999, 'time': 17.26761902298696, 'total communication cost': 481627.9019019019, 'communication rounds': 7.034034034034034, 'total theoretical entropy cost': 296385.06280349713}\n",
      "1000100 97970 {'success': 1.0, 'time': 17.22838041164901, 'total communication cost': 483760.174, 'communication rounds': 7.026, 'total theoretical entropy cost': 297715.83052128804}\n",
      "1000100 98980 {'success': 1.0, 'time': 17.21679108363898, 'total communication cost': 485232.172, 'communication rounds': 7.006, 'total theoretical entropy cost': 299031.31322856527}\n",
      "1000100 99990 {'success': 1.0, 'time': 17.240370687209975, 'total communication cost': 487016.891, 'communication rounds': 7.016, 'total theoretical entropy cost': 300606.64549807884}\n",
      "1000100 101000 {'success': 1.0, 'time': 17.231958051667018, 'total communication cost': 488682.099, 'communication rounds': 7.018, 'total theoretical entropy cost': 302061.9712198547}\n",
      "1000100 102010 {'success': 1.0, 'time': 17.311182637283004, 'total communication cost': 491750.985, 'communication rounds': 7.022, 'total theoretical entropy cost': 303519.0469034653}\n",
      "1000100 103020 {'success': 1.0, 'time': 17.225367933621015, 'total communication cost': 493115.797, 'communication rounds': 7.009, 'total theoretical entropy cost': 304711.1959982341}\n",
      "1000100 104030 {'success': 1.0, 'time': 17.196347582649015, 'total communication cost': 494561.886, 'communication rounds': 7.013, 'total theoretical entropy cost': 306050.13574385387}\n",
      "1000100 105040 {'success': 1.0, 'time': 17.26046691391398, 'total communication cost': 497120.031, 'communication rounds': 7.013, 'total theoretical entropy cost': 307506.8083494461}\n",
      "1001000 104500 {'success': 1.0, 'time': 17.946667175034012, 'total communication cost': 603507.951, 'communication rounds': 8.043, 'total theoretical entropy cost': 337660.50162567536}\n",
      "1001000 105600 {'success': 1.0, 'time': 18.033343589775004, 'total communication cost': 606269.455, 'communication rounds': 8.031, 'total theoretical entropy cost': 338864.99325618404}\n",
      "1001000 106699 {'success': 1.0, 'time': 18.198958680943974, 'total communication cost': 608128.488, 'communication rounds': 8.035, 'total theoretical entropy cost': 340111.8891243673}\n",
      "1001000 107800 {'success': 1.0, 'time': 18.214967847426, 'total communication cost': 610485.264, 'communication rounds': 8.029, 'total theoretical entropy cost': 341405.93485753925}\n",
      "1001000 108900 {'success': 0.999, 'time': 18.29126109717216, 'total communication cost': 612941.6196196196, 'communication rounds': 8.01901901901902, 'total theoretical entropy cost': 342475.04959724634}\n",
      "1001000 110000 {'success': 1.0, 'time': 18.370127903724004, 'total communication cost': 615521.75, 'communication rounds': 8.005, 'total theoretical entropy cost': 343564.9997227118}\n",
      "1001000 111100 {'success': 1.0, 'time': 18.362191523020005, 'total communication cost': 617700.259, 'communication rounds': 8.004, 'total theoretical entropy cost': 344743.9803492122}\n",
      "1001000 112199 {'success': 1.0, 'time': 18.344397176140003, 'total communication cost': 619933.03, 'communication rounds': 8.003, 'total theoretical entropy cost': 345991.3720519803}\n",
      "1001000 113300 {'success': 1.0, 'time': 18.297658484890018, 'total communication cost': 622333.939, 'communication rounds': 8.003, 'total theoretical entropy cost': 347284.7905708811}\n",
      "1001000 114400 {'success': 1.0, 'time': 18.189202780666008, 'total communication cost': 623773.838, 'communication rounds': 7.987, 'total theoretical entropy cost': 348184.7717800308}\n",
      "1003000 123500 {'success': 0.998, 'time': 21.08946043291085, 'total communication cost': 754327.5450901804, 'communication rounds': 8.871743486973948, 'total theoretical entropy cost': 429633.6512380633}\n",
      "1003000 124800 {'success': 0.999, 'time': 21.09314395794595, 'total communication cost': 755192.4974974975, 'communication rounds': 8.786786786786786, 'total theoretical entropy cost': 429580.11168998014}\n",
      "1003000 126099 {'success': 0.999, 'time': 20.909056907893916, 'total communication cost': 756138.1941941942, 'communication rounds': 8.704704704704705, 'total theoretical entropy cost': 429500.8411217063}\n",
      "1003000 127400 {'success': 0.999, 'time': 20.863290195856855, 'total communication cost': 756693.7267267267, 'communication rounds': 8.624624624624625, 'total theoretical entropy cost': 429440.90952298575}\n",
      "1003000 128700 {'success': 0.998, 'time': 20.8463865900822, 'total communication cost': 759654.8406813628, 'communication rounds': 8.582164328657315, 'total theoretical entropy cost': 429981.44626745593}\n",
      "1003000 130000 {'success': 0.999, 'time': 20.811470777996007, 'total communication cost': 760225.8698698699, 'communication rounds': 8.475475475475475, 'total theoretical entropy cost': 429588.40898109734}\n",
      "1003000 131300 {'success': 0.999, 'time': 20.907143882121137, 'total communication cost': 761742.1701701701, 'communication rounds': 8.43943943943944, 'total theoretical entropy cost': 430044.8640774649}\n",
      "1003000 132600 {'success': 0.999, 'time': 20.8291739257177, 'total communication cost': 762937.2162162162, 'communication rounds': 8.377377377377377, 'total theoretical entropy cost': 430197.2816999911}\n",
      "1003000 133900 {'success': 0.999, 'time': 20.67777303430632, 'total communication cost': 765151.5585585586, 'communication rounds': 8.36936936936937, 'total theoretical entropy cost': 431203.64420276124}\n",
      "1003000 135200 {'success': 0.998, 'time': 20.6773226986082, 'total communication cost': 766744.9298597195, 'communication rounds': 8.324649298597194, 'total theoretical entropy cost': 431699.57765033486}\n",
      "1010000 150000 {'success': 0.0, 'time': None, 'total communication cost': None, 'communication rounds': None, 'total theoretical entropy cost': 1009003.1972476295}\n",
      "1010000 152000 {'success': 0.06, 'time': 29.74990048333333, 'total communication cost': 1382747.7833333334, 'communication rounds': 10.966666666666667, 'total theoretical entropy cost': 923503.3619203208}\n",
      "1010000 154000 {'success': 0.761, 'time': 29.21498340778845, 'total communication cost': 1346903.6307490144, 'communication rounds': 10.604467805519054, 'total theoretical entropy cost': 797336.3013560219}\n",
      "1010000 156000 {'success': 0.996, 'time': 27.428552292723893, 'total communication cost': 1280427.0070281124, 'communication rounds': 10.06425702811245, 'total theoretical entropy cost': 729246.5150911105}\n",
      "1010000 158000 {'success': 0.997, 'time': 26.96784837572013, 'total communication cost': 1241755.8024072216, 'communication rounds': 10.005015045135407, 'total theoretical entropy cost': 698131.1212595471}\n",
      "1010000 160000 {'success': 1.0, 'time': 27.05667599901197, 'total communication cost': 1222448.297, 'communication rounds': 10.007, 'total theoretical entropy cost': 681859.7075635423}\n",
      "1010000 162000 {'success': 1.0, 'time': 26.962868781411007, 'total communication cost': 1209523.878, 'communication rounds': 10.002, 'total theoretical entropy cost': 669807.986369156}\n",
      "1010000 164000 {'success': 1.0, 'time': 26.730320379157998, 'total communication cost': 1201225.412, 'communication rounds': 10.0, 'total theoretical entropy cost': 662771.9858290891}\n",
      "1010000 166000 {'success': 1.0, 'time': 26.820788707138007, 'total communication cost': 1195617.831, 'communication rounds': 10.003, 'total theoretical entropy cost': 657913.0857579041}\n",
      "1010000 168000 {'success': 0.999, 'time': 26.62278698253854, 'total communication cost': 1191666.6906906907, 'communication rounds': 10.001001001001, 'total theoretical entropy cost': 654145.5380790257}\n",
      "1030000 284000 {'success': 1.0, 'time': 30.653086562441043, 'total communication cost': 2038838.052, 'communication rounds': 9.742, 'total theoretical entropy cost': 992693.9314569648}\n",
      "1030000 288000 {'success': 1.0, 'time': 30.138903705753027, 'total communication cost': 2024309.324, 'communication rounds': 9.594, 'total theoretical entropy cost': 984377.3510231086}\n",
      "1030000 292000 {'success': 1.0, 'time': 29.752334141195032, 'total communication cost': 2012751.179, 'communication rounds': 9.47, 'total theoretical entropy cost': 977925.1803724875}\n",
      "1030000 296000 {'success': 1.0, 'time': 29.241562152458027, 'total communication cost': 2004191.095, 'communication rounds': 9.342, 'total theoretical entropy cost': 971374.4616143741}\n",
      "1030000 300000 {'success': 1.0, 'time': 28.93119975492201, 'total communication cost': 1997786.95, 'communication rounds': 9.296, 'total theoretical entropy cost': 967948.222951872}\n",
      "1030000 304000 {'success': 1.0, 'time': 28.812886342954005, 'total communication cost': 1992410.433, 'communication rounds': 9.219, 'total theoretical entropy cost': 963462.227888787}\n",
      "1030000 308000 {'success': 1.0, 'time': 28.612022477022002, 'total communication cost': 1986696.83, 'communication rounds': 9.156, 'total theoretical entropy cost': 959872.5672760889}\n",
      "1030000 312000 {'success': 1.0, 'time': 28.386841802484014, 'total communication cost': 1986382.982, 'communication rounds': 9.131, 'total theoretical entropy cost': 958026.9249919344}\n",
      "1030000 316000 {'success': 1.0, 'time': 28.236025489353022, 'total communication cost': 1985714.471, 'communication rounds': 9.043, 'total theoretical entropy cost': 954756.7497858832}\n",
      "1030000 320000 {'success': 1.0, 'time': 27.80337270567003, 'total communication cost': 1982029.093, 'communication rounds': 8.958, 'total theoretical entropy cost': 951968.6903697373}\n",
      "1100000 473000 {'success': 0.0, 'time': None, 'total communication cost': None, 'communication rounds': None, 'total theoretical entropy cost': 3996187.481264055}\n",
      "1100000 484000 {'success': 0.002, 'time': 42.989483984, 'total communication cost': 5715277.0, 'communication rounds': 11.0, 'total theoretical entropy cost': 3525164.514809811}\n",
      "1100000 495000 {'success': 0.999, 'time': 40.16220958717816, 'total communication cost': 4939124.11011011, 'communication rounds': 10.017017017017016, 'total theoretical entropy cost': 2151743.7052554595}\n",
      "1100000 505999 {'success': 1.0, 'time': 39.67490241657902, 'total communication cost': 4781617.214, 'communication rounds': 10.006, 'total theoretical entropy cost': 2056189.2542150908}\n",
      "1100000 517000 {'success': 0.999, 'time': 38.997037744835836, 'total communication cost': 4394655.878878878, 'communication rounds': 9.735735735735735, 'total theoretical entropy cost': 1802404.3754179145}\n",
      "1100000 528000 {'success': 1.0, 'time': 38.542438480565075, 'total communication cost': 4320618.747, 'communication rounds': 9.506, 'total theoretical entropy cost': 1751706.5545945605}\n",
      "1100000 539000 {'success': 1.0, 'time': 38.19284101723497, 'total communication cost': 4315606.083, 'communication rounds': 9.372, 'total theoretical entropy cost': 1748624.304746216}\n",
      "1100000 550000 {'success': 1.0, 'time': 37.77934261415801, 'total communication cost': 4323747.945, 'communication rounds': 9.268, 'total theoretical entropy cost': 1750113.727212536}\n",
      "1100000 561000 {'success': 1.0, 'time': 37.081504117845, 'total communication cost': 4328212.971, 'communication rounds': 9.133, 'total theoretical entropy cost': 1750214.7433149428}\n",
      "1100000 572000 {'success': 0.999, 'time': 36.71239746595394, 'total communication cost': 4336979.467467467, 'communication rounds': 9.058058058058059, 'total theoretical entropy cost': 1753937.9058837225}\n",
      "1200000 693000 {'success': 0.0, 'time': None, 'total communication cost': None, 'communication rounds': None, 'total theoretical entropy cost': 6576128.996611694}\n",
      "1200000 714000 {'success': 0.0, 'time': None, 'total communication cost': None, 'communication rounds': None, 'total theoretical entropy cost': 6170502.069986798}\n",
      "1200000 735000 {'success': 1.0, 'time': 48.290013337118005, 'total communication cost': 8377846.19, 'communication rounds': 10.051, 'total theoretical entropy cost': 3264650.166929132}\n",
      "1200000 756000 {'success': 1.0, 'time': 47.56016468713294, 'total communication cost': 7262791.533, 'communication rounds': 9.373, 'total theoretical entropy cost': 2555197.0106260087}\n",
      "1200000 777000 {'success': 1.0, 'time': 46.595135495642, 'total communication cost': 7289675.466, 'communication rounds': 9.29, 'total theoretical entropy cost': 2570897.7583406516}\n",
      "1200000 798000 {'success': 1.0, 'time': 45.62264671272297, 'total communication cost': 7313817.102, 'communication rounds': 9.134, 'total theoretical entropy cost': 2579466.394834359}\n",
      "1200000 819000 {'success': 1.0, 'time': 44.59315355103797, 'total communication cost': 7345288.523, 'communication rounds': 9.016, 'total theoretical entropy cost': 2590923.083472763}\n",
      "1200000 840000 {'success': 1.0, 'time': 43.50496124126606, 'total communication cost': 7365901.476, 'communication rounds': 8.828, 'total theoretical entropy cost': 2593277.0397234233}\n",
      "1200000 860999 {'success': 1.0, 'time': 42.48760840232598, 'total communication cost': 7392181.602, 'communication rounds': 8.708, 'total theoretical entropy cost': 2598270.8255748157}\n",
      "1200000 882000 {'success': 1.0, 'time': 41.67433806554102, 'total communication cost': 7430180.174, 'communication rounds': 8.66, 'total theoretical entropy cost': 2613187.983597181}\n"
     ]
    }
   ],
   "source": [
    "keys = list(ys.keys())\n",
    "keys.sort()\n",
    "for b, d in keys:\n",
    "    if ys[b,d][\"success\"] is None:\n",
    "        continue\n",
    "    print(b, d, ys[b,d])"
   ]
  },
  {
   "cell_type": "code",
   "execution_count": 1,
   "metadata": {},
   "outputs": [],
   "source": [
    "from oniakRun.aggregate_result import aggregate_result\n",
    "import glob\n",
    "import re\n",
    "import json, os\n",
    "import numpy as np\n",
    "\n",
    "root = \"/media/mydrive/CDMA\"\n",
    "fnames = os.path.join(root, \"result/two_side_quantize2/bs*_d*_sd*.json\")\n",
    "flist = glob.glob(fnames)\n",
    "pattern = r\"bs([0-9]+)_d([0-9]+)\"\n",
    "bs = set()\n",
    "for fil in flist:\n",
    "    m = re.search(pattern, fil).groups()\n",
    "    bs.add((int(m[0]), int(m[1])))\n",
    "\n",
    "\n",
    "filename = os.path.join(root, \"result/two_side_quantize2/bs{}_d{}_sd*.json\")\n",
    "ys = {}\n",
    "agg_keys = {\n",
    "    \"success\": \"avg\",\n",
    "    \"time\": (\"avg\", \"if\", lambda dik: dik[\"success\"], \"key\", lambda dik: dik[\"time\"][-1]),\n",
    "    \"total communication cost\": (\"avg\", \"if\", lambda dik: dik[\"success\"]),\n",
    "    \"communication rounds\": (\"avg\", \"if\", lambda dik: dik[\"success\"]),\n",
    "    \"num peels\": (\"avg\", \"if\", lambda dik: not dik[\"success\"], \"key\", lambda dik: dik[\"num peels\"][0]),\n",
    "    \"number of recenters\": (\"avg\", \"if\", lambda dik: not dik[\"success\"]),\n",
    "}\n",
    "\n",
    "for b, d in bs:\n",
    "    ys[b, d] = aggregate_result(filename.format(b, d), agg_keys)"
   ]
  },
  {
   "cell_type": "code",
   "execution_count": null,
   "metadata": {},
   "outputs": [],
   "source": [
    "keys = list(ys.keys())\n",
    "keys.sort()\n",
    "for b, d in keys:\n",
    "    if ys[b,d][\"success\"] is None:\n",
    "        continue\n",
    "    print(b, d, ys[b,d])"
   ]
  }
 ],
 "metadata": {
  "kernelspec": {
   "display_name": "base",
   "language": "python",
   "name": "python3"
  },
  "language_info": {
   "codemirror_mode": {
    "name": "ipython",
    "version": 3
   },
   "file_extension": ".py",
   "mimetype": "text/x-python",
   "name": "python",
   "nbconvert_exporter": "python",
   "pygments_lexer": "ipython3",
   "version": "3.9.7"
  }
 },
 "nbformat": 4,
 "nbformat_minor": 2
}
