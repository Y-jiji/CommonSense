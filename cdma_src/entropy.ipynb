{
 "cells": [
  {
   "cell_type": "markdown",
   "metadata": {},
   "source": [
    "Entropy and mutual information of Poisson random variables (all units are bits)"
   ]
  },
  {
   "cell_type": "code",
   "execution_count": 7,
   "metadata": {},
   "outputs": [
    {
     "data": {
      "text/plain": [
       "array([0.00000000e+00, 2.00000000e+00, 2.00010000e+04, ...,\n",
       "       2.45954354e+00, 2.45958464e+00, 2.45962574e+00])"
      ]
     },
     "execution_count": 7,
     "metadata": {},
     "output_type": "execute_result"
    }
   ],
   "source": [
    "from scipy.stats import poisson, skellam\n",
    "from oniakIO import odats\n",
    "import numpy as np\n",
    "\n",
    "result = np.empty(20004)\n",
    "result[0] = 0\n",
    "result[1] = 2\n",
    "result[2] = 20001\n",
    "for i, v in enumerate(np.linspace(0, 2, 20001)):\n",
    "    result[i+3] = poisson.entropy(v) / np.log(2)\n",
    "odats.write_file(\"../data/poisson_entropy.odat\", result)\n",
    "result\n",
    "\n"
   ]
  },
  {
   "cell_type": "code",
   "execution_count": 11,
   "metadata": {},
   "outputs": [
    {
     "name": "stderr",
     "output_type": "stream",
     "text": [
      "/home/gtnetuser/anaconda3/lib/python3.9/site-packages/numpy/lib/function_base.py:2455: RuntimeWarning: invalid value encountered in _entropy (vectorized)\n",
      "  outputs = ufunc(*inputs)\n"
     ]
    },
    {
     "data": {
      "text/plain": [
       "array([0.00000000e+00, 2.00000000e+00, 2.00010000e+04, ...,\n",
       "       2.54077417e+00, 2.54081087e+00, 2.54084757e+00])"
      ]
     },
     "execution_count": 11,
     "metadata": {},
     "output_type": "execute_result"
    }
   ],
   "source": [
    "for i, v in enumerate(np.linspace(0, 2, 20001)):\n",
    "    result[i+3] = skellam.entropy(v/2, v/2) / np.log(2)\n",
    "result[3] = 0\n",
    "odats.write_file(\"../data/skellam_entropy.odat\", result)\n",
    "result"
   ]
  },
  {
   "cell_type": "code",
   "execution_count": 37,
   "metadata": {},
   "outputs": [
    {
     "data": {
      "text/plain": [
       "(array([1.04431865e-88, 4.17379664e-86, 1.62616274e-83, 6.17327831e-81,\n",
       "        2.28184422e-78, 8.20648303e-76, 2.86941846e-73, 9.74634488e-71,\n",
       "        3.21310491e-68, 1.02717470e-65, 3.18108817e-63, 9.53382001e-61,\n",
       "        2.76207365e-58, 7.72616453e-56, 2.08400510e-53, 5.41306981e-51,\n",
       "        1.35193445e-48, 3.24145077e-46, 7.44801340e-44, 1.63695609e-41,\n",
       "        3.43424314e-39, 6.86177847e-37, 1.30246793e-34, 2.34216541e-32,\n",
       "        3.97782797e-30, 6.35839156e-28, 9.52844319e-26, 1.33271104e-23,\n",
       "        1.73088631e-21, 2.07511881e-19, 2.28052008e-17, 2.27844600e-15,\n",
       "        2.04877787e-13, 1.63761034e-11, 1.14538524e-09, 6.86707339e-08,\n",
       "        3.43124687e-06, 1.37181228e-04, 4.11475063e-03, 8.23498579e-02,\n",
       "        8.26789418e-01, 8.23498578e-02, 4.11475064e-03, 1.37181230e-04,\n",
       "        3.43124693e-06, 6.86707361e-08, 1.14538529e-09, 1.63761045e-11,\n",
       "        2.04877806e-13, 2.27844626e-15, 2.28052041e-17, 2.07511917e-19,\n",
       "        1.73088667e-21, 1.33271137e-23, 9.52844595e-26, 6.35839369e-28,\n",
       "        3.97782949e-30, 2.34216642e-32, 1.30246857e-34, 6.86178218e-37,\n",
       "        3.43424521e-39, 1.63695717e-41, 7.44801881e-44, 3.24145334e-46,\n",
       "        1.35193562e-48, 5.41307489e-51, 2.08400721e-53, 7.72617298e-56,\n",
       "        2.76207690e-58, 9.53383201e-61, 3.18109245e-63, 1.02717618e-65,\n",
       "        3.21310982e-68, 9.74636071e-71, 2.86942340e-73, 8.20649798e-76,\n",
       "        2.28184861e-78, 6.17329084e-81, 1.62616620e-83, 4.17317881e-86,\n",
       "        0.00000000e+00]),\n",
       " 0.9999999999999997)"
      ]
     },
     "execution_count": 37,
     "metadata": {},
     "output_type": "execute_result"
    }
   ],
   "source": [
    "pmfs = np.empty(40)\n",
    "for i in range(40):\n",
    "    pmfs[i] = poisson.pmf(i, 0.1)\n",
    "# [-40, 40]\n",
    "sklm = np.zeros(81)\n",
    "for i, v in enumerate(pmfs):\n",
    "    for j in range(41):\n",
    "        idx = i - j + 40\n",
    "        if idx < 0 or idx >= 81:\n",
    "            continue\n",
    "        sklm[idx] += v * poisson.pmf(j, (100-i) / 999 )\n",
    "sklm, sklm.sum()"
   ]
  },
  {
   "cell_type": "code",
   "execution_count": 38,
   "metadata": {},
   "outputs": [
    {
     "data": {
      "text/plain": [
       "(0.8890080307575563, 0.8890077465477842)"
      ]
     },
     "execution_count": 38,
     "metadata": {},
     "output_type": "execute_result"
    }
   ],
   "source": [
    "import scipy\n",
    "scipy.stats.entropy(sklm) / np.log(2), skellam.entropy(100/999, 100/999) / np.log(2)\n"
   ]
  },
  {
   "cell_type": "code",
   "execution_count": 3,
   "metadata": {},
   "outputs": [
    {
     "data": {
      "text/plain": [
       "(74879.03508717123, 63453.58845807576, 11425.446629095466)"
      ]
     },
     "execution_count": 3,
     "metadata": {},
     "output_type": "execute_result"
    }
   ],
   "source": [
    "import scipy.stats as sts\n",
    "import numpy as np\n",
    "\n",
    "# a = 1000, b = 98000, c = 1000    k = 8,  d = 20000\n",
    "# cbf\n",
    "habc = (2 * sts.poisson.entropy(0.05) + sts.poisson.entropy(4.9)) / np.log(2) * 20000\n",
    "hb_p_c = sts.poisson.entropy(4.95) / np.log(2) * 20000\n",
    "habc, hb_p_c, habc - hb_p_c"
   ]
  },
  {
   "cell_type": "code",
   "execution_count": 10,
   "metadata": {},
   "outputs": [
    {
     "data": {
      "text/plain": [
       "(array([7.44658307e-03, 3.64882570e-02, 8.93962298e-02, 1.46013842e-01,\n",
       "        1.78866956e-01, 1.75289617e-01, 1.43153187e-01, 1.00207231e-01,\n",
       "        6.13769291e-02, 3.34163281e-02, 1.63740008e-02, 7.29387306e-03,\n",
       "        2.97833150e-03, 1.12260187e-03, 3.92910656e-04, 1.28350814e-04,\n",
       "        3.93074368e-05, 1.13297906e-05, 3.08422078e-06, 7.95404306e-07,\n",
       "        1.94874055e-07, 4.54706129e-08, 1.01275456e-08, 2.15760754e-09,\n",
       "        4.40511539e-10, 8.63402617e-11, 1.62718185e-11, 2.95303374e-12,\n",
       "        5.16780904e-13, 8.73181527e-14, 1.42619649e-14, 2.25431059e-15,\n",
       "        3.45191309e-16, 5.12556792e-17, 7.38684788e-18, 1.03415870e-18,\n",
       "        1.40760490e-19, 1.86412541e-20, 2.40374066e-21, 3.02008442e-22]),\n",
       " array([9.51229425e-01, 4.75614712e-02, 1.18903678e-03, 1.98172797e-05,\n",
       "        2.47715996e-07, 2.47715996e-09, 2.06429997e-11, 1.47449998e-13,\n",
       "        9.21562485e-16, 5.11979158e-18, 2.55989579e-20, 1.16358900e-22]))"
      ]
     },
     "execution_count": 10,
     "metadata": {},
     "output_type": "execute_result"
    }
   ],
   "source": [
    "pmfb = np.empty(40)\n",
    "for i in range(40):\n",
    "    pmfb[i] = sts.poisson.pmf(i,4.9)\n",
    "pmfa = np.empty(12)\n",
    "for i in range(12):\n",
    "    pmfa[i] = sts.poisson.pmf(i,0.05)\n",
    "pmfb, pmfa"
   ]
  },
  {
   "cell_type": "code",
   "execution_count": 15,
   "metadata": {},
   "outputs": [
    {
     "data": {
      "text/plain": [
       "1.0000000000000002"
      ]
     },
     "execution_count": 15,
     "metadata": {},
     "output_type": "execute_result"
    }
   ],
   "source": [
    "probs = np.zeros((52, 52))\n",
    "for i in range(40):\n",
    "    for j in range(12):\n",
    "        for k in range(12):\n",
    "            probs[i+j][i+k] += pmfb[i] * pmfa[j] * pmfa[k]\n",
    "probs = probs.flatten()        \n",
    "pentropy = sts.entropy(probs) / np.log(2)\n",
    "probs.sum()"
   ]
  },
  {
   "cell_type": "code",
   "execution_count": 16,
   "metadata": {},
   "outputs": [
    {
     "data": {
      "text/plain": [
       "(11425.446629095466, 10950.230996574908)"
      ]
     },
     "execution_count": 16,
     "metadata": {},
     "output_type": "execute_result"
    }
   ],
   "source": [
    "habc - hb_p_c, 20000 * pentropy - hb_p_c"
   ]
  },
  {
   "cell_type": "code",
   "execution_count": 2,
   "metadata": {},
   "outputs": [
    {
     "data": {
      "text/plain": [
       "2.0240558390456784"
      ]
     },
     "execution_count": 2,
     "metadata": {},
     "output_type": "execute_result"
    }
   ],
   "source": [
    "import scipy.stats as sts\n",
    "import numpy as np\n",
    "\n",
    "sts.skellam.entropy(1000/1999, 1000/1999) / np.log(2)"
   ]
  }
 ],
 "metadata": {
  "kernelspec": {
   "display_name": "base",
   "language": "python",
   "name": "python3"
  },
  "language_info": {
   "codemirror_mode": {
    "name": "ipython",
    "version": 3
   },
   "file_extension": ".py",
   "mimetype": "text/x-python",
   "name": "python",
   "nbconvert_exporter": "python",
   "pygments_lexer": "ipython3",
   "version": "3.9.7"
  }
 },
 "nbformat": 4,
 "nbformat_minor": 2
}
