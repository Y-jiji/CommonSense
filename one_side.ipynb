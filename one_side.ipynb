{
 "cells": [
  {
   "cell_type": "code",
   "execution_count": 3,
   "metadata": {},
   "outputs": [],
   "source": [
    "from oniakRun.aggregate_result import aggregate_result\n",
    "import glob\n",
    "import re\n",
    "import json, os\n",
    "import numpy as np\n",
    "\n",
    "root = \"/media/mydrive/CDMA\"\n",
    "fnames = os.path.join(root, \"result/one_side_quantize/bs*_d*_sd*.json\")\n",
    "flist = glob.glob(fnames)\n",
    "pattern = r\"bs([0-9]+)_d([0-9]+)\"\n",
    "bs = set()\n",
    "for fil in flist:\n",
    "    m = re.search(pattern, fil).groups()\n",
    "    bs.add((int(m[0]), int(m[1])))\n",
    "\n",
    "\n",
    "filename = os.path.join(root, \"result/one_side_quantize/bs{}_d{}_sd*.json\")\n",
    "ys = {}\n",
    "agg_keys = {\n",
    "    \"success\": [\"avg\", \"count\"],\n",
    "    \"time\": [(\"avg\", \"if\", lambda dik: not dik[\"success\"], \"key\", lambda dik: dik[\"time\"][-1]), (\"avg\", \"if\", lambda dik: dik[\"success\"], \"key\", lambda dik: dik[\"time\"][-1])],\n",
    "    \"total communication cost\": (\"avg\", \"if\", lambda dik: dik[\"success\"]),\n",
    "    \"total theoretical entropy cost\": \"avg\"\n",
    "}\n",
    "\n",
    "for b, d in bs:\n",
    "    ys[b, d] = aggregate_result(filename.format(b, d), agg_keys, remove_error=True)"
   ]
  },
  {
   "cell_type": "code",
   "execution_count": 4,
   "metadata": {},
   "outputs": [
    {
     "name": "stdout",
     "output_type": "stream",
     "text": [
      "1010000 82000 {'success': [1.0, 10009], 'time': [None, 10.979987648821917], 'total communication cost': 183175.0, 'total theoretical entropy cost': 143124.86029124228}\n",
      "1010000 84000 {'success': [0.0, 1], 'time': [11.09070228, None], 'total communication cost': None, 'total theoretical entropy cost': 145376.4928827826}\n",
      "1020000 140000 {'success': [1.0, 10009], 'time': [None, 13.820824439864236], 'total communication cost': 336742.66879808175, 'total theoretical entropy cost': 261541.94333125322}\n",
      "1050000 260000 {'success': [1.0, 10008], 'time': [None, 21.675843817725678], 'total communication cost': 666425.9544364508, 'total theoretical entropy cost': 544686.411168075}\n",
      "1100000 430000 {'success': [1.0, 10008], 'time': [None, 28.526127641468214], 'total communication cost': 1169205.276578737, 'total theoretical entropy cost': 954475.5839479218}\n",
      "1200000 680000 {'success': [1.0, 10007], 'time': [None, 39.49879341049903], 'total communication cost': 1982599.5696012792, 'total theoretical entropy cost': 1597824.6975593825}\n",
      "1500000 1300000 {'success': [1.0, 10007], 'time': [None, 62.11175870981933], 'total communication cost': 4061943.0, 'total theoretical entropy cost': 3118330.1625795835}\n",
      "2000000 1900000 {'success': [1.0, 10005], 'time': [None, 113.9966680067246], 'total communication cost': 6525592.630484758, 'total theoretical entropy cost': 4605733.054877558}\n",
      "2500000 2550000 {'success': [1.0, 10003], 'time': [None, 159.3743393355585], 'total communication cost': 9038352.683694892, 'total theoretical entropy cost': 5945228.505492751}\n",
      "3000000 3200000 {'success': [1.0, 10002], 'time': [None, 197.2976004804206], 'total communication cost': 11622157.141571686, 'total theoretical entropy cost': 7129477.102411047}\n",
      "3500000 3750000 {'success': [1.0, 10000], 'time': [None, 245.72550522046242], 'total communication cost': 13877368.6544, 'total theoretical entropy cost': 8062954.591478047}\n"
     ]
    }
   ],
   "source": [
    "keys = list(ys.keys())\n",
    "keys.sort()\n",
    "for b, d in keys:\n",
    "    if ys[b,d][\"success\"] is None:\n",
    "        continue\n",
    "    print(b, d, ys[b,d])"
   ]
  },
  {
   "cell_type": "code",
   "execution_count": 2,
   "metadata": {},
   "outputs": [
    {
     "name": "stdout",
     "output_type": "stream",
     "text": [
      "1010000 81000 {'success': 1.0, 'time': 12.752486290727473, 'total communication cost': 192777.0, 'communication rounds': 1.0, 'num peels': None, 'number of recenters': None}\n",
      "1020000 136000 {'success': 1.0, 'time': 17.307645724755073, 'total communication cost': 335698.7488, 'communication rounds': 1.0, 'num peels': None, 'number of recenters': None}\n",
      "1050000 258000 {'success': 1.0, 'time': 27.72410242230519, 'total communication cost': 694160.4032, 'communication rounds': 1.0, 'num peels': None, 'number of recenters': None}\n",
      "1100000 422000 {'success': 1.0, 'time': 35.11375952686452, 'total communication cost': 1197532.1424, 'communication rounds': 1.0, 'num peels': None, 'number of recenters': None}\n",
      "1200000 676000 {'success': 1.0, 'time': 48.24322745037897, 'total communication cost': 2041608.656, 'communication rounds': 1.0, 'num peels': None, 'number of recenters': None}\n"
     ]
    }
   ],
   "source": [
    "keys = list(ys.keys())\n",
    "keys.sort()\n",
    "for b, d in keys:\n",
    "    if ys[b,d][\"success\"] is None:\n",
    "        continue\n",
    "    print(b, d, ys[b,d])"
   ]
  },
  {
   "cell_type": "code",
   "execution_count": 3,
   "metadata": {},
   "outputs": [
    {
     "name": "stdout",
     "output_type": "stream",
     "text": [
      "{'A intersect B remaining': [5], 'A minus B remaining': [0], 'A minus B size': 0, 'A size': 1000000, 'B minus A remaining': [0], 'B size': 1010000, 'comm costs': [185823.0, 64338.0], 'communication rounds': 1, 'counting': True, 'd': 84000, 'df': 8.4, 'doro costs': [185823.0, 529.0], 'finger costs': [0, 63809.0], 'k': 7, 'max comm rounds': 1, 'max num peels': 25000.0, 'max process': 30, 'max recenter rounds': 10, 'max rounds': 1000, 'num peels': [12609], 'number of corrected errors': 893, 'number of failed blocks': 0, 'number of recenters': 4, 'resolving costs': [0, 0.0], 'resolving round': -1, 'result filename': '/media/mydrive/CDMA/result/one_side_quantize/bs1010000_d84000_sd4191464797.json', 'root path': '/media/mydrive/CDMA', 'script': ['/media/mydrive/CDMA/build/bin/doro', 'JSON'], 'seed': 4191464797, 'success': False, 'ta': 100, 'theoretical entropy costs': [144971.88315502714, 404.6097277554574], 'time': [11.09070228], 'total communication cost': 250161.0, 'total theoretical entropy cost': 145376.4928827826, 'universe': 5000000}\n",
      "{'A intersect B remaining': [5], 'A minus B remaining': [0], 'A minus B size': 0, 'A size': 1000000, 'B minus A remaining': [0], 'B size': 1010000, 'comm costs': [185823.0, 64434.0], 'communication rounds': 1, 'counting': True, 'd': 84000, 'df': 8.4, 'doro costs': [185823.0, 529.0], 'finger costs': [0, 63905.0], 'k': 7, 'max comm rounds': 1, 'max num peels': 25000.0, 'max process': 30, 'max recenter rounds': 10, 'max rounds': 1000, 'num peels': [12601], 'number of corrected errors': 923, 'number of failed blocks': 0, 'number of recenters': 4, 'resolving costs': [0, 0.0], 'resolving round': -1, 'result filename': '/media/mydrive/CDMA/result/one_side_quantize/bs1010000_d84000_sd2401289617.json', 'root path': '/media/mydrive/CDMA', 'script': ['/media/mydrive/CDMA/build/bin/doro', 'JSON'], 'seed': 2401289617, 'success': False, 'ta': 100, 'theoretical entropy costs': [144971.88315502714, 404.6097277554574], 'time': [11.125433638], 'total communication cost': 250257.0, 'total theoretical entropy cost': 145376.4928827826, 'universe': 5000000}\n",
      "{'A intersect B remaining': [5], 'A minus B remaining': [0], 'A minus B size': 0, 'A size': 1000000, 'B minus A remaining': [0], 'B size': 1010000, 'comm costs': [185823.0, 64418.0], 'communication rounds': 1, 'counting': True, 'd': 84000, 'df': 8.4, 'doro costs': [185823.0, 529.0], 'finger costs': [0, 63889.0], 'k': 7, 'max comm rounds': 1, 'max num peels': 25000.0, 'max process': 30, 'max recenter rounds': 10, 'max rounds': 1000, 'num peels': [12383], 'number of corrected errors': 894, 'number of failed blocks': 0, 'number of recenters': 4, 'resolving costs': [0, 0.0], 'resolving round': -1, 'result filename': '/media/mydrive/CDMA/result/one_side_quantize/bs1010000_d84000_sd217187322.json', 'root path': '/media/mydrive/CDMA', 'script': ['/media/mydrive/CDMA/build/bin/doro', 'JSON'], 'seed': 217187322, 'success': False, 'ta': 100, 'theoretical entropy costs': [144971.88315502714, 404.6097277554574], 'time': [11.090383981], 'total communication cost': 250241.0, 'total theoretical entropy cost': 145376.4928827826, 'universe': 5000000}\n"
     ]
    },
    {
     "ename": "JSONDecodeError",
     "evalue": "Expecting value: line 1 column 1 (char 0)",
     "output_type": "error",
     "traceback": [
      "\u001b[0;31m---------------------------------------------------------------------------\u001b[0m",
      "\u001b[0;31mJSONDecodeError\u001b[0m                           Traceback (most recent call last)",
      "\u001b[0;32m/tmp/ipykernel_2852448/3235600528.py\u001b[0m in \u001b[0;36m<module>\u001b[0;34m\u001b[0m\n\u001b[1;32m      4\u001b[0m \u001b[0;32mfor\u001b[0m \u001b[0mf\u001b[0m \u001b[0;32min\u001b[0m \u001b[0mfnames\u001b[0m\u001b[0;34m:\u001b[0m\u001b[0;34m\u001b[0m\u001b[0;34m\u001b[0m\u001b[0m\n\u001b[1;32m      5\u001b[0m     \u001b[0;32mwith\u001b[0m \u001b[0mopen\u001b[0m\u001b[0;34m(\u001b[0m\u001b[0mf\u001b[0m\u001b[0;34m,\u001b[0m \u001b[0;34m\"r\"\u001b[0m\u001b[0;34m)\u001b[0m \u001b[0;32mas\u001b[0m \u001b[0mf\u001b[0m\u001b[0;34m:\u001b[0m\u001b[0;34m\u001b[0m\u001b[0;34m\u001b[0m\u001b[0m\n\u001b[0;32m----> 6\u001b[0;31m         \u001b[0mdata\u001b[0m \u001b[0;34m=\u001b[0m \u001b[0mjson\u001b[0m\u001b[0;34m.\u001b[0m\u001b[0mload\u001b[0m\u001b[0;34m(\u001b[0m\u001b[0mf\u001b[0m\u001b[0;34m)\u001b[0m\u001b[0;34m\u001b[0m\u001b[0;34m\u001b[0m\u001b[0m\n\u001b[0m\u001b[1;32m      7\u001b[0m     \u001b[0;32mif\u001b[0m \u001b[0;32mnot\u001b[0m \u001b[0mdata\u001b[0m\u001b[0;34m[\u001b[0m\u001b[0;34m\"success\"\u001b[0m\u001b[0;34m]\u001b[0m\u001b[0;34m:\u001b[0m\u001b[0;34m\u001b[0m\u001b[0;34m\u001b[0m\u001b[0m\n\u001b[1;32m      8\u001b[0m         \u001b[0mprint\u001b[0m\u001b[0;34m(\u001b[0m\u001b[0mdata\u001b[0m\u001b[0;34m)\u001b[0m\u001b[0;34m\u001b[0m\u001b[0;34m\u001b[0m\u001b[0m\n",
      "\u001b[0;32m~/anaconda3/lib/python3.9/json/__init__.py\u001b[0m in \u001b[0;36mload\u001b[0;34m(fp, cls, object_hook, parse_float, parse_int, parse_constant, object_pairs_hook, **kw)\u001b[0m\n\u001b[1;32m    291\u001b[0m     \u001b[0mkwarg\u001b[0m\u001b[0;34m;\u001b[0m \u001b[0motherwise\u001b[0m\u001b[0;31m \u001b[0m\u001b[0;31m`\u001b[0m\u001b[0;31m`\u001b[0m\u001b[0mJSONDecoder\u001b[0m\u001b[0;31m`\u001b[0m\u001b[0;31m`\u001b[0m \u001b[0;32mis\u001b[0m \u001b[0mused\u001b[0m\u001b[0;34m.\u001b[0m\u001b[0;34m\u001b[0m\u001b[0;34m\u001b[0m\u001b[0m\n\u001b[1;32m    292\u001b[0m     \"\"\"\n\u001b[0;32m--> 293\u001b[0;31m     return loads(fp.read(),\n\u001b[0m\u001b[1;32m    294\u001b[0m         \u001b[0mcls\u001b[0m\u001b[0;34m=\u001b[0m\u001b[0mcls\u001b[0m\u001b[0;34m,\u001b[0m \u001b[0mobject_hook\u001b[0m\u001b[0;34m=\u001b[0m\u001b[0mobject_hook\u001b[0m\u001b[0;34m,\u001b[0m\u001b[0;34m\u001b[0m\u001b[0;34m\u001b[0m\u001b[0m\n\u001b[1;32m    295\u001b[0m         \u001b[0mparse_float\u001b[0m\u001b[0;34m=\u001b[0m\u001b[0mparse_float\u001b[0m\u001b[0;34m,\u001b[0m \u001b[0mparse_int\u001b[0m\u001b[0;34m=\u001b[0m\u001b[0mparse_int\u001b[0m\u001b[0;34m,\u001b[0m\u001b[0;34m\u001b[0m\u001b[0;34m\u001b[0m\u001b[0m\n",
      "\u001b[0;32m~/anaconda3/lib/python3.9/json/__init__.py\u001b[0m in \u001b[0;36mloads\u001b[0;34m(s, cls, object_hook, parse_float, parse_int, parse_constant, object_pairs_hook, **kw)\u001b[0m\n\u001b[1;32m    344\u001b[0m             \u001b[0mparse_int\u001b[0m \u001b[0;32mis\u001b[0m \u001b[0;32mNone\u001b[0m \u001b[0;32mand\u001b[0m \u001b[0mparse_float\u001b[0m \u001b[0;32mis\u001b[0m \u001b[0;32mNone\u001b[0m \u001b[0;32mand\u001b[0m\u001b[0;34m\u001b[0m\u001b[0;34m\u001b[0m\u001b[0m\n\u001b[1;32m    345\u001b[0m             parse_constant is None and object_pairs_hook is None and not kw):\n\u001b[0;32m--> 346\u001b[0;31m         \u001b[0;32mreturn\u001b[0m \u001b[0m_default_decoder\u001b[0m\u001b[0;34m.\u001b[0m\u001b[0mdecode\u001b[0m\u001b[0;34m(\u001b[0m\u001b[0ms\u001b[0m\u001b[0;34m)\u001b[0m\u001b[0;34m\u001b[0m\u001b[0;34m\u001b[0m\u001b[0m\n\u001b[0m\u001b[1;32m    347\u001b[0m     \u001b[0;32mif\u001b[0m \u001b[0mcls\u001b[0m \u001b[0;32mis\u001b[0m \u001b[0;32mNone\u001b[0m\u001b[0;34m:\u001b[0m\u001b[0;34m\u001b[0m\u001b[0;34m\u001b[0m\u001b[0m\n\u001b[1;32m    348\u001b[0m         \u001b[0mcls\u001b[0m \u001b[0;34m=\u001b[0m \u001b[0mJSONDecoder\u001b[0m\u001b[0;34m\u001b[0m\u001b[0;34m\u001b[0m\u001b[0m\n",
      "\u001b[0;32m~/anaconda3/lib/python3.9/json/decoder.py\u001b[0m in \u001b[0;36mdecode\u001b[0;34m(self, s, _w)\u001b[0m\n\u001b[1;32m    335\u001b[0m \u001b[0;34m\u001b[0m\u001b[0m\n\u001b[1;32m    336\u001b[0m         \"\"\"\n\u001b[0;32m--> 337\u001b[0;31m         \u001b[0mobj\u001b[0m\u001b[0;34m,\u001b[0m \u001b[0mend\u001b[0m \u001b[0;34m=\u001b[0m \u001b[0mself\u001b[0m\u001b[0;34m.\u001b[0m\u001b[0mraw_decode\u001b[0m\u001b[0;34m(\u001b[0m\u001b[0ms\u001b[0m\u001b[0;34m,\u001b[0m \u001b[0midx\u001b[0m\u001b[0;34m=\u001b[0m\u001b[0m_w\u001b[0m\u001b[0;34m(\u001b[0m\u001b[0ms\u001b[0m\u001b[0;34m,\u001b[0m \u001b[0;36m0\u001b[0m\u001b[0;34m)\u001b[0m\u001b[0;34m.\u001b[0m\u001b[0mend\u001b[0m\u001b[0;34m(\u001b[0m\u001b[0;34m)\u001b[0m\u001b[0;34m)\u001b[0m\u001b[0;34m\u001b[0m\u001b[0;34m\u001b[0m\u001b[0m\n\u001b[0m\u001b[1;32m    338\u001b[0m         \u001b[0mend\u001b[0m \u001b[0;34m=\u001b[0m \u001b[0m_w\u001b[0m\u001b[0;34m(\u001b[0m\u001b[0ms\u001b[0m\u001b[0;34m,\u001b[0m \u001b[0mend\u001b[0m\u001b[0;34m)\u001b[0m\u001b[0;34m.\u001b[0m\u001b[0mend\u001b[0m\u001b[0;34m(\u001b[0m\u001b[0;34m)\u001b[0m\u001b[0;34m\u001b[0m\u001b[0;34m\u001b[0m\u001b[0m\n\u001b[1;32m    339\u001b[0m         \u001b[0;32mif\u001b[0m \u001b[0mend\u001b[0m \u001b[0;34m!=\u001b[0m \u001b[0mlen\u001b[0m\u001b[0;34m(\u001b[0m\u001b[0ms\u001b[0m\u001b[0;34m)\u001b[0m\u001b[0;34m:\u001b[0m\u001b[0;34m\u001b[0m\u001b[0;34m\u001b[0m\u001b[0m\n",
      "\u001b[0;32m~/anaconda3/lib/python3.9/json/decoder.py\u001b[0m in \u001b[0;36mraw_decode\u001b[0;34m(self, s, idx)\u001b[0m\n\u001b[1;32m    353\u001b[0m             \u001b[0mobj\u001b[0m\u001b[0;34m,\u001b[0m \u001b[0mend\u001b[0m \u001b[0;34m=\u001b[0m \u001b[0mself\u001b[0m\u001b[0;34m.\u001b[0m\u001b[0mscan_once\u001b[0m\u001b[0;34m(\u001b[0m\u001b[0ms\u001b[0m\u001b[0;34m,\u001b[0m \u001b[0midx\u001b[0m\u001b[0;34m)\u001b[0m\u001b[0;34m\u001b[0m\u001b[0;34m\u001b[0m\u001b[0m\n\u001b[1;32m    354\u001b[0m         \u001b[0;32mexcept\u001b[0m \u001b[0mStopIteration\u001b[0m \u001b[0;32mas\u001b[0m \u001b[0merr\u001b[0m\u001b[0;34m:\u001b[0m\u001b[0;34m\u001b[0m\u001b[0;34m\u001b[0m\u001b[0m\n\u001b[0;32m--> 355\u001b[0;31m             \u001b[0;32mraise\u001b[0m \u001b[0mJSONDecodeError\u001b[0m\u001b[0;34m(\u001b[0m\u001b[0;34m\"Expecting value\"\u001b[0m\u001b[0;34m,\u001b[0m \u001b[0ms\u001b[0m\u001b[0;34m,\u001b[0m \u001b[0merr\u001b[0m\u001b[0;34m.\u001b[0m\u001b[0mvalue\u001b[0m\u001b[0;34m)\u001b[0m \u001b[0;32mfrom\u001b[0m \u001b[0;32mNone\u001b[0m\u001b[0;34m\u001b[0m\u001b[0;34m\u001b[0m\u001b[0m\n\u001b[0m\u001b[1;32m    356\u001b[0m         \u001b[0;32mreturn\u001b[0m \u001b[0mobj\u001b[0m\u001b[0;34m,\u001b[0m \u001b[0mend\u001b[0m\u001b[0;34m\u001b[0m\u001b[0;34m\u001b[0m\u001b[0m\n",
      "\u001b[0;31mJSONDecodeError\u001b[0m: Expecting value: line 1 column 1 (char 0)"
     ]
    }
   ],
   "source": [
    "import glob\n",
    "\n",
    "fnames = glob.glob(\"/media/mydrive/CDMA/result/one_side_quantize/bs1010000_d*.json\")\n",
    "for f in fnames:\n",
    "    with open(f, \"r\") as f:\n",
    "        data = json.load(f)\n",
    "    if not data[\"success\"]:\n",
    "        print(data)"
   ]
  }
 ],
 "metadata": {
  "kernelspec": {
   "display_name": "base",
   "language": "python",
   "name": "python3"
  },
  "language_info": {
   "codemirror_mode": {
    "name": "ipython",
    "version": 3
   },
   "file_extension": ".py",
   "mimetype": "text/x-python",
   "name": "python",
   "nbconvert_exporter": "python",
   "pygments_lexer": "ipython3",
   "version": "3.9.7"
  }
 },
 "nbformat": 4,
 "nbformat_minor": 2
}
