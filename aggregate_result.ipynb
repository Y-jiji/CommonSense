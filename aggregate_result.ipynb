{
 "cells": [
  {
   "cell_type": "code",
   "execution_count": 9,
   "metadata": {},
   "outputs": [
    {
     "name": "stdout",
     "output_type": "stream",
     "text": [
      "['A minus B size', 'A size', 'B size', 'file name', 'iblt total cost a to b', 'iblt total cost b to a', 'max process', 'result filename', 'root path', 'round', 'script', 'seed', 'success', 'a', 'b', 'iblt total cost']\n"
     ]
    }
   ],
   "source": [
    "import pandas as pd\n",
    "import json\n",
    "import os\n",
    "\n",
    "def scan(folder: str):\n",
    "    l = []\n",
    "    for file in os.listdir(folder):\n",
    "        try:\n",
    "            with open(os.path.join(folder, file)) as file:\n",
    "                j = json.load(file)\n",
    "            j['a'] = j[\"A size\"]\n",
    "            j['b'] = j[\"B size\"]\n",
    "            l.append(j)\n",
    "        except:\n",
    "            continue # 算了算了\n",
    "    return pd.DataFrame(l)\n",
    "\n",
    "df = scan(\"result/two_side_quantize2_iblt_separate_AB\")\n",
    "print([x for x in df])\n",
    "df[\"a,b\"] = df.apply(lambda x: f'{x[\"a\"]},{x[\"b\"]}', axis=1)\n",
    "df = df.groupby([\"a,b\"])"
   ]
  },
  {
   "cell_type": "code",
   "execution_count": 33,
   "metadata": {},
   "outputs": [
    {
     "name": "stdout",
     "output_type": "stream",
     "text": [
      "success rate\n",
      "a,b\n",
      "1000100,1010000    1.0\n",
      "1001000,1010000    1.0\n",
      "1003000,1010000    1.0\n",
      "1010000,1010000    1.0\n",
      "1010000,1030000    1.0\n",
      "1010000,1100000    1.0\n",
      "1010000,1300000    1.0\n",
      "Name: success, dtype: float64\n",
      "size a minus b\n",
      "a,b\n",
      "1000100,1010000      100.0\n",
      "1001000,1010000     1000.0\n",
      "1003000,1010000     3000.0\n",
      "1010000,1010000    10000.0\n",
      "1010000,1030000    10000.0\n",
      "1010000,1100000    10000.0\n",
      "1010000,1300000    10000.0\n",
      "Name: A minus B size, dtype: float64\n",
      "cost, a to b (iblt entries)\n",
      "a,b\n",
      "1000100,1010000     0.494496\n",
      "1001000,1010000     0.538560\n",
      "1003000,1010000     0.636480\n",
      "1010000,1010000     0.979200\n",
      "1010000,1030000     1.958400\n",
      "1010000,1100000     5.385600\n",
      "1010000,1300000    15.177600\n",
      "Name: iblt total cost a to b, dtype: float64\n",
      "cost, b to a (entries)\n",
      "a,b\n",
      "1000100,1010000     0.494745\n",
      "1001000,1010000     0.541052\n",
      "1003000,1010000     0.643956\n",
      "1010000,1010000     1.004132\n",
      "1010000,1030000     1.983332\n",
      "1010000,1100000     5.410532\n",
      "1010000,1300000    15.202532\n",
      "dtype: float64\n"
     ]
    }
   ],
   "source": [
    "import numpy as np\n",
    "# iblt success\n",
    "print(\"success rate\")\n",
    "print(df[\"success\"].mean())\n",
    "# iblt A minus B size\n",
    "print(\"size a minus b\")\n",
    "print(df[\"A minus B size\"].mean())\n",
    "# iblt sizes for each experiment\n",
    "print(\"cost, a to b (iblt entries)\")\n",
    "print(df[\"iblt total cost a to b\"].mean()/8000000)\n",
    "# the number of iblt-cells for each experiment\n",
    "print(\"cost, b to a (entries)\")\n",
    "print(df[\"iblt total cost a to b\"].mean()/8000000 + (df[\"A size\"].mean() - 1000000) * np.log2(df[\"A size\"].mean())/8000000) "
   ]
  }
 ],
 "metadata": {
  "kernelspec": {
   "display_name": "Python 3",
   "language": "python",
   "name": "python3"
  },
  "language_info": {
   "codemirror_mode": {
    "name": "ipython",
    "version": 3
   },
   "file_extension": ".py",
   "mimetype": "text/x-python",
   "name": "python",
   "nbconvert_exporter": "python",
   "pygments_lexer": "ipython3",
   "version": "3.10.12"
  }
 },
 "nbformat": 4,
 "nbformat_minor": 2
}
